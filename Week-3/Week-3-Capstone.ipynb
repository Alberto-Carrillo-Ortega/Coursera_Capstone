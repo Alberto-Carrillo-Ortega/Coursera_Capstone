{
 "cells": [
  {
   "cell_type": "markdown",
   "id": "a54325ce-a68e-491e-ab7a-4a0e4304aa4e",
   "metadata": {},
   "source": [
    "# Week 3 Capstone\n",
    "\n",
    "Notebook for the third week of *Applied Data Science Capstone*.\n",
    "This Notebook will contain segmenting and clustering neighborhoods in Toronto\n"
   ]
  },
  {
   "cell_type": "code",
   "execution_count": null,
   "id": "39efa6d9-bf95-4ec4-983b-b0f38a85a87e",
   "metadata": {},
   "outputs": [],
   "source": []
  }
 ],
 "metadata": {
  "kernelspec": {
   "display_name": "Python",
   "language": "python",
   "name": "conda-env-python-py"
  },
  "language_info": {
   "codemirror_mode": {
    "name": "ipython",
    "version": 3
   },
   "file_extension": ".py",
   "mimetype": "text/x-python",
   "name": "python",
   "nbconvert_exporter": "python",
   "pygments_lexer": "ipython3",
   "version": "3.6.13"
  }
 },
 "nbformat": 4,
 "nbformat_minor": 5
}
