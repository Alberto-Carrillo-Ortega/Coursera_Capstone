{
 "cells": [
  {
   "cell_type": "markdown",
   "id": "a54325ce-a68e-491e-ab7a-4a0e4304aa4e",
   "metadata": {},
   "source": [
    "# Week 1 Capstone\n",
    "\n",
    "Notebook for the first week of *Applied Data Science Capstone*.\n",
    "This Notebook will contain some imports and a simple Print.\n"
   ]
  },
  {
   "cell_type": "code",
   "execution_count": 2,
   "id": "b5b753ad-fcb0-48da-a053-d722c0a020cd",
   "metadata": {},
   "outputs": [],
   "source": [
    "# Imports\n",
    "import pandas as pd\n",
    "import numpy  as np"
   ]
  },
  {
   "cell_type": "code",
   "execution_count": 5,
   "id": "af9b4291-823e-4118-9f0b-1da57da0ef03",
   "metadata": {},
   "outputs": [
    {
     "name": "stdout",
     "output_type": "stream",
     "text": [
      "Hello Capstone Project Course!\n",
      "<function show_versions at 0x7f6eb4ae3ae8>\n"
     ]
    }
   ],
   "source": [
    "print(\"Hello Capstone Project Course!\")\n",
    "print(pd.show_versions)"
   ]
  },
  {
   "cell_type": "code",
   "execution_count": null,
   "id": "9e832514-135c-47ed-a840-5c11eff0011c",
   "metadata": {},
   "outputs": [],
   "source": []
  }
 ],
 "metadata": {
  "kernelspec": {
   "display_name": "Python",
   "language": "python",
   "name": "conda-env-python-py"
  },
  "language_info": {
   "codemirror_mode": {
    "name": "ipython",
    "version": 3
   },
   "file_extension": ".py",
   "mimetype": "text/x-python",
   "name": "python",
   "nbconvert_exporter": "python",
   "pygments_lexer": "ipython3",
   "version": "3.6.13"
  }
 },
 "nbformat": 4,
 "nbformat_minor": 5
}
